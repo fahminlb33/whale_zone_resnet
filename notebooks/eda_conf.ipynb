{
 "cells": [
  {
   "cell_type": "code",
   "execution_count": 1,
   "metadata": {},
   "outputs": [],
   "source": [
    "import numpy as np\n",
    "import pandas as pd\n",
    "import scipy.stats"
   ]
  },
  {
   "cell_type": "code",
   "execution_count": 3,
   "metadata": {},
   "outputs": [
    {
     "data": {
      "text/html": [
       "<div>\n",
       "<style scoped>\n",
       "    .dataframe tbody tr th:only-of-type {\n",
       "        vertical-align: middle;\n",
       "    }\n",
       "\n",
       "    .dataframe tbody tr th {\n",
       "        vertical-align: top;\n",
       "    }\n",
       "\n",
       "    .dataframe thead th {\n",
       "        text-align: right;\n",
       "    }\n",
       "</style>\n",
       "<table border=\"1\" class=\"dataframe\">\n",
       "  <thead>\n",
       "    <tr style=\"text-align: right;\">\n",
       "      <th></th>\n",
       "      <th>index</th>\n",
       "      <th>filename</th>\n",
       "      <th>training_time</th>\n",
       "      <th>inference_time</th>\n",
       "      <th>mcc</th>\n",
       "      <th>accuracy</th>\n",
       "      <th>precision</th>\n",
       "      <th>recall</th>\n",
       "      <th>f1</th>\n",
       "      <th>roc_auc</th>\n",
       "      <th>ap</th>\n",
       "      <th>params_dataset</th>\n",
       "      <th>params_model</th>\n",
       "      <th>params_loss</th>\n",
       "      <th>params_depth</th>\n",
       "    </tr>\n",
       "  </thead>\n",
       "  <tbody>\n",
       "    <tr>\n",
       "      <th>0</th>\n",
       "      <td>141</td>\n",
       "      <td>all_resnet_bias_fl_4.keras</td>\n",
       "      <td>4284.255519</td>\n",
       "      <td>6.667655</td>\n",
       "      <td>0.957030</td>\n",
       "      <td>0.998983</td>\n",
       "      <td>0.966253</td>\n",
       "      <td>0.948913</td>\n",
       "      <td>0.957504</td>\n",
       "      <td>0.974254</td>\n",
       "      <td>0.917507</td>\n",
       "      <td>all</td>\n",
       "      <td>resnet-bias</td>\n",
       "      <td>fl</td>\n",
       "      <td>4</td>\n",
       "    </tr>\n",
       "    <tr>\n",
       "      <th>1</th>\n",
       "      <td>132</td>\n",
       "      <td>all_resnet_bias_fl_2.keras</td>\n",
       "      <td>4631.141106</td>\n",
       "      <td>5.038482</td>\n",
       "      <td>0.956926</td>\n",
       "      <td>0.998981</td>\n",
       "      <td>0.967246</td>\n",
       "      <td>0.947734</td>\n",
       "      <td>0.957390</td>\n",
       "      <td>0.973671</td>\n",
       "      <td>0.917323</td>\n",
       "      <td>all</td>\n",
       "      <td>resnet-bias</td>\n",
       "      <td>fl</td>\n",
       "      <td>2</td>\n",
       "    </tr>\n",
       "    <tr>\n",
       "      <th>2</th>\n",
       "      <td>135</td>\n",
       "      <td>all_resnet_bias_fl_3.keras</td>\n",
       "      <td>3639.324994</td>\n",
       "      <td>4.730508</td>\n",
       "      <td>0.955074</td>\n",
       "      <td>0.998943</td>\n",
       "      <td>0.973362</td>\n",
       "      <td>0.938171</td>\n",
       "      <td>0.955443</td>\n",
       "      <td>0.968929</td>\n",
       "      <td>0.913927</td>\n",
       "      <td>all</td>\n",
       "      <td>resnet-bias</td>\n",
       "      <td>fl</td>\n",
       "      <td>3</td>\n",
       "    </tr>\n",
       "    <tr>\n",
       "      <th>3</th>\n",
       "      <td>11</td>\n",
       "      <td>all_fcn_bce_3.keras</td>\n",
       "      <td>2139.248813</td>\n",
       "      <td>3.892771</td>\n",
       "      <td>0.954911</td>\n",
       "      <td>0.998935</td>\n",
       "      <td>0.967369</td>\n",
       "      <td>0.943673</td>\n",
       "      <td>0.955374</td>\n",
       "      <td>0.971642</td>\n",
       "      <td>0.913561</td>\n",
       "      <td>all</td>\n",
       "      <td>fcn</td>\n",
       "      <td>bce</td>\n",
       "      <td>3</td>\n",
       "    </tr>\n",
       "    <tr>\n",
       "      <th>4</th>\n",
       "      <td>127</td>\n",
       "      <td>all_resnet_bias_fl_1.keras</td>\n",
       "      <td>4839.328579</td>\n",
       "      <td>4.149075</td>\n",
       "      <td>0.954610</td>\n",
       "      <td>0.998935</td>\n",
       "      <td>0.978156</td>\n",
       "      <td>0.932670</td>\n",
       "      <td>0.954872</td>\n",
       "      <td>0.966208</td>\n",
       "      <td>0.913110</td>\n",
       "      <td>all</td>\n",
       "      <td>resnet-bias</td>\n",
       "      <td>fl</td>\n",
       "      <td>1</td>\n",
       "    </tr>\n",
       "  </tbody>\n",
       "</table>\n",
       "</div>"
      ],
      "text/plain": [
       "   index                    filename  training_time  inference_time       mcc  \\\n",
       "0    141  all_resnet_bias_fl_4.keras    4284.255519        6.667655  0.957030   \n",
       "1    132  all_resnet_bias_fl_2.keras    4631.141106        5.038482  0.956926   \n",
       "2    135  all_resnet_bias_fl_3.keras    3639.324994        4.730508  0.955074   \n",
       "3     11         all_fcn_bce_3.keras    2139.248813        3.892771  0.954911   \n",
       "4    127  all_resnet_bias_fl_1.keras    4839.328579        4.149075  0.954610   \n",
       "\n",
       "   accuracy  precision    recall        f1   roc_auc        ap params_dataset  \\\n",
       "0  0.998983   0.966253  0.948913  0.957504  0.974254  0.917507            all   \n",
       "1  0.998981   0.967246  0.947734  0.957390  0.973671  0.917323            all   \n",
       "2  0.998943   0.973362  0.938171  0.955443  0.968929  0.913927            all   \n",
       "3  0.998935   0.967369  0.943673  0.955374  0.971642  0.913561            all   \n",
       "4  0.998935   0.978156  0.932670  0.954872  0.966208  0.913110            all   \n",
       "\n",
       "  params_model params_loss  params_depth  \n",
       "0  resnet-bias          fl             4  \n",
       "1  resnet-bias          fl             2  \n",
       "2  resnet-bias          fl             3  \n",
       "3          fcn         bce             3  \n",
       "4  resnet-bias          fl             1  "
      ]
     },
     "execution_count": 3,
     "metadata": {},
     "output_type": "execute_result"
    }
   ],
   "source": [
    "df = pd.read_excel(\"../data/summary-bener-final-fix.xlsx\")\n",
    "df.head()"
   ]
  },
  {
   "cell_type": "code",
   "execution_count": 20,
   "metadata": {},
   "outputs": [],
   "source": [
    "k1 = df[(df[\"params_model\"] == \"fcn\") & (df[\"params_dataset\"] == \"all\")][\"accuracy\"]\n",
    "k2 = df[(df[\"params_model\"] == \"resnet-bias\") & (df[\"params_dataset\"] == \"all\")][\"accuracy\"]"
   ]
  },
  {
   "cell_type": "code",
   "execution_count": 21,
   "metadata": {},
   "outputs": [
    {
     "data": {
      "text/plain": [
       "TtestResult(statistic=-1.824334371610354, pvalue=0.0817141867999046, df=22.0)"
      ]
     },
     "execution_count": 21,
     "metadata": {},
     "output_type": "execute_result"
    }
   ],
   "source": [
    "res = scipy.stats.ttest_ind(k1, k2)\n",
    "res"
   ]
  },
  {
   "cell_type": "code",
   "execution_count": 22,
   "metadata": {},
   "outputs": [
    {
     "data": {
      "text/plain": [
       "ConfidenceInterval(low=-0.0007685026913840558, high=4.919470363794632e-05)"
      ]
     },
     "execution_count": 22,
     "metadata": {},
     "output_type": "execute_result"
    }
   ],
   "source": [
    "res.confidence_interval()"
   ]
  },
  {
   "cell_type": "code",
   "execution_count": null,
   "metadata": {},
   "outputs": [],
   "source": []
  }
 ],
 "metadata": {
  "kernelspec": {
   "display_name": "thesis",
   "language": "python",
   "name": "python3"
  },
  "language_info": {
   "codemirror_mode": {
    "name": "ipython",
    "version": 3
   },
   "file_extension": ".py",
   "mimetype": "text/x-python",
   "name": "python",
   "nbconvert_exporter": "python",
   "pygments_lexer": "ipython3",
   "version": "3.10.12"
  }
 },
 "nbformat": 4,
 "nbformat_minor": 2
}
